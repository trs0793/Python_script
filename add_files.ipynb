{
 "cells": [
  {
   "cell_type": "code",
   "execution_count": 14,
   "metadata": {},
   "outputs": [
    {
     "name": "stderr",
     "output_type": "stream",
     "text": [
      "/opt/tljh/user/lib/python3.7/site-packages/outdated/utils.py:18: OutdatedCacheFailedWarning: Failed to use cache while checking for outdated package.\n",
      "Set the environment variable OUTDATED_RAISE_EXCEPTION=1 for a full traceback.\n",
      "Set the environment variable OUTDATED_IGNORE=1 to disable these warnings.\n",
      "  **kwargs\n",
      "/opt/tljh/user/lib/python3.7/site-packages/outdated/utils.py:18: OutdatedPackageWarning: The package outdated is out of date. Your version is 0.2.1, the latest is 0.2.2.\n",
      "Set the environment variable OUTDATED_IGNORE=1 to disable these warnings.\n",
      "  **kwargs\n",
      "/opt/tljh/user/lib/python3.7/site-packages/outdated/utils.py:18: OutdatedPackageWarning: The package pingouin is out of date. Your version is 0.4.0, the latest is 0.5.3.\n",
      "Set the environment variable OUTDATED_IGNORE=1 to disable these warnings.\n",
      "  **kwargs\n"
     ]
    }
   ],
   "source": [
    "import numpy as np\n",
    "import pandas as pd\n",
    "import scipy.stats as st\n",
    "import pingouin as pg\n",
    "import seaborn as sns\n",
    "import matplotlib.pyplot as plt\n",
    "import requests\n",
    "import io\n",
    "import gspread\n",
    "from df2gspread import df2gspread as d2g\n",
    "from oauth2client.service_account import ServiceAccountCredentials\n",
    "import os\n",
    "from scipy.stats import bootstrap"
   ]
  },
  {
   "cell_type": "code",
   "execution_count": 2,
   "metadata": {},
   "outputs": [],
   "source": [
    "#условие размера графиков\n",
    "sns.set(rc={'figure.figsize':(12,4)}, style=\"whitegrid\")"
   ]
  },
  {
   "cell_type": "code",
   "execution_count": null,
   "metadata": {},
   "outputs": [],
   "source": [
    "3.1 Задача\n",
    "\n",
    "Реализуйте функцию, которая будет автоматически подгружать информацию из дополнительного файла groups_add.csv \n",
    "(заголовки могут отличаться) и на основании дополнительных параметров пересчитывать метрики.\n",
    "Реализуйте функцию, которая будет строить графики по получаемым метрикам."
   ]
  },
  {
   "cell_type": "code",
   "execution_count": 3,
   "metadata": {},
   "outputs": [],
   "source": [
    "tables_name = ['project_2_active_studs', 'projec_2_checks', 'project_2_group_add', 'project_2_groups'] #названия датафреймов на моем диске"
   ]
  },
  {
   "cell_type": "code",
   "execution_count": 15,
   "metadata": {},
   "outputs": [],
   "source": [
    "list_df = [] #создаем список чтобы туда добавлялись датафреймы"
   ]
  },
  {
   "cell_type": "code",
   "execution_count": 16,
   "metadata": {},
   "outputs": [],
   "source": [
    "\n",
    "# Specify path to your file with credentials\n",
    "path_to_credential = '/mnt/HC_Volume_18315164/home-jupyter/jupyter-t-chernov-36/Data_fp/my-final-project-403511-32a5169a03fd.json' \n",
    "\n",
    "# Specify name of table in google sheets\n",
    "\n",
    "scope = ['https://spreadsheets.google.com/feeds',\n",
    "         'https://www.googleapis.com/auth/drive']\n",
    "\n",
    "credentials = ServiceAccountCredentials.from_json_keyfile_name(path_to_credential, scope)\n",
    "\n",
    "gs = gspread.authorize(credentials)\n",
    "def download_dataset(dataset): #создаем функцию для прочитывания датасетов из гугл таблиц и добавления датафрейма в список\n",
    "    work_sheet = gs.open(dataset)\n",
    "\n",
    "    # Select 1st sheet\n",
    "    sheet1 = work_sheet.sheet1\n",
    "\n",
    "    # Get data in python lists format\n",
    "    data = sheet1.get_all_values()\n",
    "\n",
    "    # Get header from data\n",
    "    headers = data.pop(0)\n",
    "\n",
    "    # Create df\n",
    "    df = pd.DataFrame(data, columns=headers)\n",
    "    \n",
    "    #добавляем датафреймы в список\n",
    "    list_df.append(df)\n",
    "    \n",
    "    return"
   ]
  },
  {
   "cell_type": "code",
   "execution_count": 17,
   "metadata": {},
   "outputs": [],
   "source": [
    "download_dataset('project_2_active_studs') #вызываем функцию, добавляя active_studs в список"
   ]
  },
  {
   "cell_type": "code",
   "execution_count": 18,
   "metadata": {},
   "outputs": [],
   "source": [
    "active_studs = list_df[-1] #присваиваем имя датафрейму из последнего добавленного"
   ]
  },
  {
   "cell_type": "code",
   "execution_count": 19,
   "metadata": {},
   "outputs": [],
   "source": [
    "download_dataset('projec_2_checks') "
   ]
  },
  {
   "cell_type": "code",
   "execution_count": 20,
   "metadata": {},
   "outputs": [],
   "source": [
    "checks = list_df[-1]"
   ]
  },
  {
   "cell_type": "code",
   "execution_count": 21,
   "metadata": {},
   "outputs": [],
   "source": [
    "download_dataset('project_2_group_add')"
   ]
  },
  {
   "cell_type": "code",
   "execution_count": 22,
   "metadata": {},
   "outputs": [],
   "source": [
    "groups_add = list_df[-1]"
   ]
  },
  {
   "cell_type": "code",
   "execution_count": 23,
   "metadata": {},
   "outputs": [],
   "source": [
    "download_dataset('project_2_groups')"
   ]
  },
  {
   "cell_type": "code",
   "execution_count": 24,
   "metadata": {},
   "outputs": [],
   "source": [
    "groups = list_df[-1]"
   ]
  },
  {
   "cell_type": "code",
   "execution_count": 25,
   "metadata": {},
   "outputs": [
    {
     "data": {
      "text/html": [
       "<div>\n",
       "<style scoped>\n",
       "    .dataframe tbody tr th:only-of-type {\n",
       "        vertical-align: middle;\n",
       "    }\n",
       "\n",
       "    .dataframe tbody tr th {\n",
       "        vertical-align: top;\n",
       "    }\n",
       "\n",
       "    .dataframe thead th {\n",
       "        text-align: right;\n",
       "    }\n",
       "</style>\n",
       "<table border=\"1\" class=\"dataframe\">\n",
       "  <thead>\n",
       "    <tr style=\"text-align: right;\">\n",
       "      <th></th>\n",
       "      <th>student_id</th>\n",
       "    </tr>\n",
       "  </thead>\n",
       "  <tbody>\n",
       "    <tr>\n",
       "      <th>0</th>\n",
       "      <td>581585</td>\n",
       "    </tr>\n",
       "    <tr>\n",
       "      <th>1</th>\n",
       "      <td>5723133</td>\n",
       "    </tr>\n",
       "    <tr>\n",
       "      <th>2</th>\n",
       "      <td>3276743</td>\n",
       "    </tr>\n",
       "    <tr>\n",
       "      <th>3</th>\n",
       "      <td>4238589</td>\n",
       "    </tr>\n",
       "    <tr>\n",
       "      <th>4</th>\n",
       "      <td>4475369</td>\n",
       "    </tr>\n",
       "    <tr>\n",
       "      <th>...</th>\n",
       "      <td>...</td>\n",
       "    </tr>\n",
       "    <tr>\n",
       "      <th>8336</th>\n",
       "      <td>1794344</td>\n",
       "    </tr>\n",
       "    <tr>\n",
       "      <th>8337</th>\n",
       "      <td>296883</td>\n",
       "    </tr>\n",
       "    <tr>\n",
       "      <th>8338</th>\n",
       "      <td>3598448</td>\n",
       "    </tr>\n",
       "    <tr>\n",
       "      <th>8339</th>\n",
       "      <td>3610547</td>\n",
       "    </tr>\n",
       "    <tr>\n",
       "      <th>8340</th>\n",
       "      <td>205705</td>\n",
       "    </tr>\n",
       "  </tbody>\n",
       "</table>\n",
       "<p>8341 rows × 1 columns</p>\n",
       "</div>"
      ],
      "text/plain": [
       "     student_id\n",
       "0        581585\n",
       "1       5723133\n",
       "2       3276743\n",
       "3       4238589\n",
       "4       4475369\n",
       "...         ...\n",
       "8336    1794344\n",
       "8337     296883\n",
       "8338    3598448\n",
       "8339    3610547\n",
       "8340     205705\n",
       "\n",
       "[8341 rows x 1 columns]"
      ]
     },
     "execution_count": 25,
     "metadata": {},
     "output_type": "execute_result"
    }
   ],
   "source": [
    "active_studs"
   ]
  },
  {
   "cell_type": "code",
   "execution_count": 15,
   "metadata": {},
   "outputs": [
    {
     "data": {
      "text/html": [
       "<div>\n",
       "<style scoped>\n",
       "    .dataframe tbody tr th:only-of-type {\n",
       "        vertical-align: middle;\n",
       "    }\n",
       "\n",
       "    .dataframe tbody tr th {\n",
       "        vertical-align: top;\n",
       "    }\n",
       "\n",
       "    .dataframe thead th {\n",
       "        text-align: right;\n",
       "    }\n",
       "</style>\n",
       "<table border=\"1\" class=\"dataframe\">\n",
       "  <thead>\n",
       "    <tr style=\"text-align: right;\">\n",
       "      <th></th>\n",
       "      <th>student_id</th>\n",
       "      <th>rev</th>\n",
       "    </tr>\n",
       "  </thead>\n",
       "  <tbody>\n",
       "    <tr>\n",
       "      <th>0</th>\n",
       "      <td>1627</td>\n",
       "      <td>990.0</td>\n",
       "    </tr>\n",
       "    <tr>\n",
       "      <th>1</th>\n",
       "      <td>3185</td>\n",
       "      <td>690.0</td>\n",
       "    </tr>\n",
       "    <tr>\n",
       "      <th>2</th>\n",
       "      <td>25973</td>\n",
       "      <td>690.0</td>\n",
       "    </tr>\n",
       "    <tr>\n",
       "      <th>3</th>\n",
       "      <td>26280</td>\n",
       "      <td>690.0</td>\n",
       "    </tr>\n",
       "    <tr>\n",
       "      <th>4</th>\n",
       "      <td>100300</td>\n",
       "      <td>990.0</td>\n",
       "    </tr>\n",
       "    <tr>\n",
       "      <th>...</th>\n",
       "      <td>...</td>\n",
       "      <td>...</td>\n",
       "    </tr>\n",
       "    <tr>\n",
       "      <th>536</th>\n",
       "      <td>5645737</td>\n",
       "      <td>1900.0</td>\n",
       "    </tr>\n",
       "    <tr>\n",
       "      <th>537</th>\n",
       "      <td>5651566</td>\n",
       "      <td>1900.0</td>\n",
       "    </tr>\n",
       "    <tr>\n",
       "      <th>538</th>\n",
       "      <td>5662322</td>\n",
       "      <td>1900.0</td>\n",
       "    </tr>\n",
       "    <tr>\n",
       "      <th>539</th>\n",
       "      <td>5681918</td>\n",
       "      <td>1900.0</td>\n",
       "    </tr>\n",
       "    <tr>\n",
       "      <th>540</th>\n",
       "      <td>5740903</td>\n",
       "      <td>1900.0</td>\n",
       "    </tr>\n",
       "  </tbody>\n",
       "</table>\n",
       "<p>541 rows × 2 columns</p>\n",
       "</div>"
      ],
      "text/plain": [
       "    student_id     rev\n",
       "0         1627   990.0\n",
       "1         3185   690.0\n",
       "2        25973   690.0\n",
       "3        26280   690.0\n",
       "4       100300   990.0\n",
       "..         ...     ...\n",
       "536    5645737  1900.0\n",
       "537    5651566  1900.0\n",
       "538    5662322  1900.0\n",
       "539    5681918  1900.0\n",
       "540    5740903  1900.0\n",
       "\n",
       "[541 rows x 2 columns]"
      ]
     },
     "execution_count": 15,
     "metadata": {},
     "output_type": "execute_result"
    }
   ],
   "source": [
    "checks"
   ]
  },
  {
   "cell_type": "code",
   "execution_count": 16,
   "metadata": {},
   "outputs": [
    {
     "data": {
      "text/html": [
       "<div>\n",
       "<style scoped>\n",
       "    .dataframe tbody tr th:only-of-type {\n",
       "        vertical-align: middle;\n",
       "    }\n",
       "\n",
       "    .dataframe tbody tr th {\n",
       "        vertical-align: top;\n",
       "    }\n",
       "\n",
       "    .dataframe thead th {\n",
       "        text-align: right;\n",
       "    }\n",
       "</style>\n",
       "<table border=\"1\" class=\"dataframe\">\n",
       "  <thead>\n",
       "    <tr style=\"text-align: right;\">\n",
       "      <th></th>\n",
       "      <th>id</th>\n",
       "      <th>grp</th>\n",
       "    </tr>\n",
       "  </thead>\n",
       "  <tbody>\n",
       "    <tr>\n",
       "      <th>0</th>\n",
       "      <td>5694584</td>\n",
       "      <td>B</td>\n",
       "    </tr>\n",
       "    <tr>\n",
       "      <th>1</th>\n",
       "      <td>5694830</td>\n",
       "      <td>B</td>\n",
       "    </tr>\n",
       "    <tr>\n",
       "      <th>2</th>\n",
       "      <td>5695057</td>\n",
       "      <td>B</td>\n",
       "    </tr>\n",
       "    <tr>\n",
       "      <th>3</th>\n",
       "      <td>5698872</td>\n",
       "      <td>B</td>\n",
       "    </tr>\n",
       "    <tr>\n",
       "      <th>4</th>\n",
       "      <td>5699067</td>\n",
       "      <td>B</td>\n",
       "    </tr>\n",
       "    <tr>\n",
       "      <th>...</th>\n",
       "      <td>...</td>\n",
       "      <td>...</td>\n",
       "    </tr>\n",
       "    <tr>\n",
       "      <th>87</th>\n",
       "      <td>200247820</td>\n",
       "      <td>B</td>\n",
       "    </tr>\n",
       "    <tr>\n",
       "      <th>88</th>\n",
       "      <td>201032527</td>\n",
       "      <td>B</td>\n",
       "    </tr>\n",
       "    <tr>\n",
       "      <th>89</th>\n",
       "      <td>201067612</td>\n",
       "      <td>B</td>\n",
       "    </tr>\n",
       "    <tr>\n",
       "      <th>90</th>\n",
       "      <td>201067653</td>\n",
       "      <td>B</td>\n",
       "    </tr>\n",
       "    <tr>\n",
       "      <th>91</th>\n",
       "      <td>201067659</td>\n",
       "      <td>B</td>\n",
       "    </tr>\n",
       "  </tbody>\n",
       "</table>\n",
       "<p>92 rows × 2 columns</p>\n",
       "</div>"
      ],
      "text/plain": [
       "           id grp\n",
       "0     5694584   B\n",
       "1     5694830   B\n",
       "2     5695057   B\n",
       "3     5698872   B\n",
       "4     5699067   B\n",
       "..        ...  ..\n",
       "87  200247820   B\n",
       "88  201032527   B\n",
       "89  201067612   B\n",
       "90  201067653   B\n",
       "91  201067659   B\n",
       "\n",
       "[92 rows x 2 columns]"
      ]
     },
     "execution_count": 16,
     "metadata": {},
     "output_type": "execute_result"
    }
   ],
   "source": [
    "groups_add"
   ]
  },
  {
   "cell_type": "code",
   "execution_count": 17,
   "metadata": {},
   "outputs": [
    {
     "data": {
      "text/html": [
       "<div>\n",
       "<style scoped>\n",
       "    .dataframe tbody tr th:only-of-type {\n",
       "        vertical-align: middle;\n",
       "    }\n",
       "\n",
       "    .dataframe tbody tr th {\n",
       "        vertical-align: top;\n",
       "    }\n",
       "\n",
       "    .dataframe thead th {\n",
       "        text-align: right;\n",
       "    }\n",
       "</style>\n",
       "<table border=\"1\" class=\"dataframe\">\n",
       "  <thead>\n",
       "    <tr style=\"text-align: right;\">\n",
       "      <th></th>\n",
       "      <th>id</th>\n",
       "      <th>grp</th>\n",
       "    </tr>\n",
       "  </thead>\n",
       "  <tbody>\n",
       "    <tr>\n",
       "      <th>0</th>\n",
       "      <td>1489</td>\n",
       "      <td>B</td>\n",
       "    </tr>\n",
       "    <tr>\n",
       "      <th>1</th>\n",
       "      <td>1627</td>\n",
       "      <td>A</td>\n",
       "    </tr>\n",
       "    <tr>\n",
       "      <th>2</th>\n",
       "      <td>1768</td>\n",
       "      <td>B</td>\n",
       "    </tr>\n",
       "    <tr>\n",
       "      <th>3</th>\n",
       "      <td>1783</td>\n",
       "      <td>B</td>\n",
       "    </tr>\n",
       "    <tr>\n",
       "      <th>4</th>\n",
       "      <td>1794</td>\n",
       "      <td>A</td>\n",
       "    </tr>\n",
       "    <tr>\n",
       "      <th>...</th>\n",
       "      <td>...</td>\n",
       "      <td>...</td>\n",
       "    </tr>\n",
       "    <tr>\n",
       "      <th>74479</th>\n",
       "      <td>5692459</td>\n",
       "      <td>B</td>\n",
       "    </tr>\n",
       "    <tr>\n",
       "      <th>74480</th>\n",
       "      <td>5692572</td>\n",
       "      <td>B</td>\n",
       "    </tr>\n",
       "    <tr>\n",
       "      <th>74481</th>\n",
       "      <td>5692865</td>\n",
       "      <td>B</td>\n",
       "    </tr>\n",
       "    <tr>\n",
       "      <th>74482</th>\n",
       "      <td>5693667</td>\n",
       "      <td>B</td>\n",
       "    </tr>\n",
       "    <tr>\n",
       "      <th>74483</th>\n",
       "      <td>5694419</td>\n",
       "      <td>B</td>\n",
       "    </tr>\n",
       "  </tbody>\n",
       "</table>\n",
       "<p>74484 rows × 2 columns</p>\n",
       "</div>"
      ],
      "text/plain": [
       "            id grp\n",
       "0         1489   B\n",
       "1         1627   A\n",
       "2         1768   B\n",
       "3         1783   B\n",
       "4         1794   A\n",
       "...        ...  ..\n",
       "74479  5692459   B\n",
       "74480  5692572   B\n",
       "74481  5692865   B\n",
       "74482  5693667   B\n",
       "74483  5694419   B\n",
       "\n",
       "[74484 rows x 2 columns]"
      ]
     },
     "execution_count": 17,
     "metadata": {},
     "output_type": "execute_result"
    }
   ],
   "source": [
    "groups"
   ]
  },
  {
   "cell_type": "code",
   "execution_count": null,
   "metadata": {},
   "outputs": [],
   "source": [
    "#Вопросы\n",
    "#1)На какие метрики Вы смотрите в ходе анализа и почему?\n",
    "#2)Имеются ли различия в показателях и с чем они могут быть связаны?\n",
    "#3)Являются ли эти различия статистически значимыми?\n",
    "#4)Стоит ли запускать новую механику на всех пользователей?"
   ]
  },
  {
   "cell_type": "code",
   "execution_count": null,
   "metadata": {},
   "outputs": [],
   "source": [
    "#Ответы:\n",
    "#1)Средняя сумма оплаты (checks.rev)  Потому что чем больше сумма оплаты , тем успешнее новая механика оплаты."
   ]
  },
  {
   "cell_type": "code",
   "execution_count": null,
   "metadata": {},
   "outputs": [],
   "source": [
    "#Нулевая гипотеза (H0): Разницы между средней суммой в тестовой и контрольной группе нет\n",
    "#Альтернативная гипотеза (H1): Разница между средней суммой  в тестовой и контрольной группе есть"
   ]
  },
  {
   "cell_type": "code",
   "execution_count": 18,
   "metadata": {},
   "outputs": [
    {
     "name": "stdout",
     "output_type": "stream",
     "text": [
      "Датафрейм 1 не содержит пропущенных значений.\n",
      "Датафрейм 2 не содержит пропущенных значений.\n",
      "Датафрейм 3 не содержит пропущенных значений.\n",
      "Датафрейм 4 не содержит пропущенных значений.\n"
     ]
    }
   ],
   "source": [
    "#проверка на пропущенные значения\n",
    "for i, df in enumerate(list_df):\n",
    "    if df.isna().values.any():\n",
    "        print(f\"Датафрейм {i+1} содержит пропущенные значения.\")\n",
    "    else:\n",
    "        print(f\"Датафрейм {i+1} не содержит пропущенных значений.\")"
   ]
  },
  {
   "cell_type": "code",
   "execution_count": 19,
   "metadata": {},
   "outputs": [
    {
     "name": "stdout",
     "output_type": "stream",
     "text": [
      "Датафрейм 1 не содержит дубликатов.\n",
      "Датафрейм 2 не содержит дубликатов.\n",
      "Датафрейм 3 не содержит дубликатов.\n",
      "Датафрейм 4 не содержит дубликатов.\n"
     ]
    }
   ],
   "source": [
    "#проверка на дублкаты \n",
    "for i, df in enumerate(list_df):\n",
    "    if df.duplicated().values.any():\n",
    "        print(f\"Датафрейм {i+1} содержит дубликаты.\")\n",
    "    else:\n",
    "        print(f\"Датафрейм {i+1} не содержит дубликатов.\")"
   ]
  },
  {
   "cell_type": "code",
   "execution_count": 49,
   "metadata": {},
   "outputs": [],
   "source": [
    "concatenated_df = [groups] #создаем список из датафреймов где уже есть groups чтобы туда добавлялись новые добавочные файлы "
   ]
  },
  {
   "cell_type": "code",
   "execution_count": 58,
   "metadata": {},
   "outputs": [],
   "source": [
    "def add_files(df_add):\n",
    "    try:\n",
    "        groups.columns = df_add.columns #унифицируем заголовки по groups\n",
    "        \n",
    "        concatenated_df.append(df_add) #будем постоянно добавлять новый датасет в список \n",
    "        \n",
    "        groups_all = pd.concat(concatenated_df) #объединяем все датафреймы из списка\n",
    "        \n",
    "        groups_all = groups_all.drop_duplicates(subset='id') # удаляем дубликаты\n",
    "        \n",
    "        active_studs.rename(columns={active_studs.columns[0]: groups_all.columns[0]}, inplace=True) #переименовываем заголовок датасета active_studs  по которому будем мерджить при необходимости \n",
    "        \n",
    "        checks.rename(columns={checks.columns[0]: groups_all.columns[0]}, inplace=True) #переименовываем заголовок датасета checks  по которому  будем мерджить\n",
    "        \n",
    "        activ_group = pd.merge(active_studs, groups_all, how='left', on='id') #Объединяем датафреймы active_studs с groups_all левым джоином , таким образом мы получим список активных студенов по группам\n",
    "        \n",
    "        checks_group = pd.merge(activ_group, checks, how='left', on='id') #Объединяем датасеты activ_group с checks через left join, таким образом мы узнаем количество активных пользователей, оплативших услугу по \n",
    "                                                                            #группам, с учетом тех кто ничего не купил, то есть 0\n",
    "        checks_group = checks_group.fillna(0) #превращаем пропущенные значения в нули \n",
    "        \n",
    "        checks_group['rev'] = checks_group['rev'].astype(float)\n",
    "        \n",
    "        std_checks_group = checks_group.groupby('grp').rev.std() #находим стандартное отклонение, по желанию можно лубую метрику посчитать\n",
    "        return std_checks_group\n",
    "    except Exception as e:\n",
    "        print(f\"Произошла ошибка: {str(e)}\")\n",
    "        return None\n",
    "    "
   ]
  },
  {
   "cell_type": "code",
   "execution_count": 59,
   "metadata": {},
   "outputs": [
    {
     "data": {
      "text/plain": [
       "grp\n",
       "A    290.490632\n",
       "B    313.770201\n",
       "Name: rev, dtype: float64"
      ]
     },
     "execution_count": 59,
     "metadata": {},
     "output_type": "execute_result"
    }
   ],
   "source": [
    "add_files(groups_add)\n"
   ]
  },
  {
   "cell_type": "code",
   "execution_count": 62,
   "metadata": {},
   "outputs": [],
   "source": [
    "def add_grafics(df_add):\n",
    "    try:\n",
    "        groups.columns = df_add.columns #унифицируем заголовки по groups\n",
    "        \n",
    "        concatenated_df.append(df_add) #будем постоянно добавлять новый датасет в список \n",
    "        \n",
    "        groups_all = pd.concat(concatenated_df) #объединяем все датафреймы из списка\n",
    "        \n",
    "        groups_all = groups_all.drop_duplicates(subset='id') # удаляем дубликаты\n",
    "        \n",
    "        active_studs.rename(columns={active_studs.columns[0]: groups_all.columns[0]}, inplace=True) #переименовываем заголовок датасета active_studs  по которому будем мерджить при необходимости \n",
    "        \n",
    "        checks.rename(columns={checks.columns[0]: groups_all.columns[0]}, inplace=True) #переименовываем заголовок датасета checks  по которому  будем мерджить\n",
    "        \n",
    "        activ_group = pd.merge(active_studs, groups_all, how='left', on='id') #Объединяем датафреймы active_studs с groups_all левым джоином , таким образом мы получим список активных студенов по группам\n",
    "        \n",
    "        checks_group = pd.merge(activ_group, checks, how='left', on='id') #Объединяем датасеты activ_group с checks через left join, таким образом мы узнаем количество активных пользователей, оплативших услугу по \n",
    "                                                                            #группам, с учетом тех кто ничего не купил, то есть 0\n",
    "        checks_group = checks_group.fillna(0) #превращаем пропущенные значения в нули \n",
    "        \n",
    "        checks_group['rev'] = checks_group['rev'].astype(float)\n",
    "        \n",
    "        checks_group['rev_log'] = checks_group['rev'].apply(lambda x: np.log(x) if x > 0 else 0) #прологарифмируем значения так как десперсия высокая и нули логарифировать не будем\n",
    "        \n",
    "        hplot_grp_A = checks_group.query(\"grp == 'A' and rev_log > 0\").rev_log # создаем переменную значения rev_log по группе А\n",
    "        hplot_grp_B = checks_group.query(\"grp == 'B' and rev_log > 0\").rev_log # создаем переменную значения rev_log по группе В\n",
    "        \n",
    "        plt.subplot(131)\n",
    "        plt.hist(hplot_grp_A, bins=10, color='blue', alpha=0.5)\n",
    "        plt.title('Distribution Group A')\n",
    "\n",
    "        plt.subplot(132)\n",
    "        plt.hist(hplot_grp_B, bins=10, color='green', alpha=0.5)\n",
    "        plt.title('Distribution Group B')\n",
    "\n",
    "        return\n",
    "    except Exception as e:\n",
    "        print(f\"Произошла ошибка: {str(e)}\")\n",
    "        return None"
   ]
  },
  {
   "cell_type": "code",
   "execution_count": 63,
   "metadata": {},
   "outputs": [
    {
     "data": {
      "image/png": "[encoded data removed]",
      "text/plain": [
       "<Figure size 864x288 with 2 Axes>"
      ]
     },
     "metadata": {},
     "output_type": "display_data"
    }
   ],
   "source": [
    "add_grafics(groups_add)"
   ]
  },
  {
   "cell_type": "code",
   "execution_count": null,
   "metadata": {},
   "outputs": [],
   "source": []
  },
  {
   "cell_type": "code",
   "execution_count": null,
   "metadata": {},
   "outputs": [],
   "source": []
  }
 ],
 "metadata": {
  "kernelspec": {
   "display_name": "Python 3 (ipykernel)",
   "language": "python",
   "name": "python3"
  },
  "language_info": {
   "codemirror_mode": {
    "name": "ipython",
    "version": 3
   },
   "file_extension": ".py",
   "mimetype": "text/x-python",
   "name": "python",
   "nbconvert_exporter": "python",
   "pygments_lexer": "ipython3",
   "version": "3.9.13"
  }
 },
 "nbformat": 4,
 "nbformat_minor": 4
}
